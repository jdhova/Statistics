{
 "cells": [
  {
   "cell_type": "code",
   "execution_count": 20,
   "metadata": {},
   "outputs": [],
   "source": [
    "import pandas as pd \n",
    "import numpy as np\n",
    "from matplotlib import pyplot as plt \n",
    "import matplotlib.pyplot as plts\n",
    "import seaborn as sns"
   ]
  },
  {
   "cell_type": "code",
   "execution_count": null,
   "metadata": {},
   "outputs": [],
   "source": []
  },
  {
   "cell_type": "code",
   "execution_count": 21,
   "metadata": {},
   "outputs": [
    {
     "data": {
      "text/plain": [
       "(10000, 5)"
      ]
     },
     "execution_count": 21,
     "metadata": {},
     "output_type": "execute_result"
    }
   ],
   "source": [
    "df =  pd.read_csv('./Data/MockData.csv')\n",
    "df.shape"
   ]
  },
  {
   "cell_type": "code",
   "execution_count": 22,
   "metadata": {},
   "outputs": [
    {
     "data": {
      "text/html": [
       "<div>\n",
       "<style scoped>\n",
       "    .dataframe tbody tr th:only-of-type {\n",
       "        vertical-align: middle;\n",
       "    }\n",
       "\n",
       "    .dataframe tbody tr th {\n",
       "        vertical-align: top;\n",
       "    }\n",
       "\n",
       "    .dataframe thead th {\n",
       "        text-align: right;\n",
       "    }\n",
       "</style>\n",
       "<table border=\"1\" class=\"dataframe\">\n",
       "  <thead>\n",
       "    <tr style=\"text-align: right;\">\n",
       "      <th></th>\n",
       "      <th>Id</th>\n",
       "      <th>Height</th>\n",
       "      <th>Weight</th>\n",
       "    </tr>\n",
       "  </thead>\n",
       "  <tbody>\n",
       "    <tr>\n",
       "      <th>count</th>\n",
       "      <td>10000.00000</td>\n",
       "      <td>10000.000000</td>\n",
       "      <td>10000.000000</td>\n",
       "    </tr>\n",
       "    <tr>\n",
       "      <th>mean</th>\n",
       "      <td>5001.67290</td>\n",
       "      <td>168.549397</td>\n",
       "      <td>73.248565</td>\n",
       "    </tr>\n",
       "    <tr>\n",
       "      <th>std</th>\n",
       "      <td>2886.97847</td>\n",
       "      <td>9.774108</td>\n",
       "      <td>14.686187</td>\n",
       "    </tr>\n",
       "    <tr>\n",
       "      <th>min</th>\n",
       "      <td>1.00000</td>\n",
       "      <td>135.530000</td>\n",
       "      <td>29.200000</td>\n",
       "    </tr>\n",
       "    <tr>\n",
       "      <th>25%</th>\n",
       "      <td>2501.75000</td>\n",
       "      <td>161.290000</td>\n",
       "      <td>61.607500</td>\n",
       "    </tr>\n",
       "    <tr>\n",
       "      <th>50%</th>\n",
       "      <td>5001.50000</td>\n",
       "      <td>168.440000</td>\n",
       "      <td>73.125000</td>\n",
       "    </tr>\n",
       "    <tr>\n",
       "      <th>75%</th>\n",
       "      <td>7502.25000</td>\n",
       "      <td>175.690000</td>\n",
       "      <td>84.902500</td>\n",
       "    </tr>\n",
       "    <tr>\n",
       "      <th>max</th>\n",
       "      <td>10000.00000</td>\n",
       "      <td>204.230000</td>\n",
       "      <td>219.370000</td>\n",
       "    </tr>\n",
       "  </tbody>\n",
       "</table>\n",
       "</div>"
      ],
      "text/plain": [
       "                Id        Height        Weight\n",
       "count  10000.00000  10000.000000  10000.000000\n",
       "mean    5001.67290    168.549397     73.248565\n",
       "std     2886.97847      9.774108     14.686187\n",
       "min        1.00000    135.530000     29.200000\n",
       "25%     2501.75000    161.290000     61.607500\n",
       "50%     5001.50000    168.440000     73.125000\n",
       "75%     7502.25000    175.690000     84.902500\n",
       "max    10000.00000    204.230000    219.370000"
      ]
     },
     "execution_count": 22,
     "metadata": {},
     "output_type": "execute_result"
    }
   ],
   "source": [
    "df2 = df.copy()\n",
    "df2.describe()"
   ]
  },
  {
   "cell_type": "code",
   "execution_count": 23,
   "metadata": {},
   "outputs": [
    {
     "data": {
      "text/html": [
       "<div>\n",
       "<style scoped>\n",
       "    .dataframe tbody tr th:only-of-type {\n",
       "        vertical-align: middle;\n",
       "    }\n",
       "\n",
       "    .dataframe tbody tr th {\n",
       "        vertical-align: top;\n",
       "    }\n",
       "\n",
       "    .dataframe thead th {\n",
       "        text-align: right;\n",
       "    }\n",
       "</style>\n",
       "<table border=\"1\" class=\"dataframe\">\n",
       "  <thead>\n",
       "    <tr style=\"text-align: right;\">\n",
       "      <th></th>\n",
       "      <th>Id</th>\n",
       "      <th>Height</th>\n",
       "      <th>Weight</th>\n",
       "      <th>Name</th>\n",
       "      <th>Gender</th>\n",
       "    </tr>\n",
       "  </thead>\n",
       "  <tbody>\n",
       "    <tr>\n",
       "      <th>0</th>\n",
       "      <td>9383</td>\n",
       "      <td>138.88</td>\n",
       "      <td>30.23</td>\n",
       "      <td>Outliar5</td>\n",
       "      <td>Female</td>\n",
       "    </tr>\n",
       "    <tr>\n",
       "      <th>1</th>\n",
       "      <td>8928</td>\n",
       "      <td>138.92</td>\n",
       "      <td>29.20</td>\n",
       "      <td>Outliar4</td>\n",
       "      <td>Male</td>\n",
       "    </tr>\n",
       "    <tr>\n",
       "      <th>2</th>\n",
       "      <td>4532</td>\n",
       "      <td>204.23</td>\n",
       "      <td>117.03</td>\n",
       "      <td>Outliar3</td>\n",
       "      <td>Female</td>\n",
       "    </tr>\n",
       "    <tr>\n",
       "      <th>3</th>\n",
       "      <td>2324</td>\n",
       "      <td>139.02</td>\n",
       "      <td>118.36</td>\n",
       "      <td>Outliar2</td>\n",
       "      <td>Male</td>\n",
       "    </tr>\n",
       "    <tr>\n",
       "      <th>4</th>\n",
       "      <td>2323</td>\n",
       "      <td>139.03</td>\n",
       "      <td>119.37</td>\n",
       "      <td>Outliar1</td>\n",
       "      <td>Male</td>\n",
       "    </tr>\n",
       "    <tr>\n",
       "      <th>5</th>\n",
       "      <td>2723</td>\n",
       "      <td>135.53</td>\n",
       "      <td>219.37</td>\n",
       "      <td>Outliar6</td>\n",
       "      <td>Female</td>\n",
       "    </tr>\n",
       "    <tr>\n",
       "      <th>6</th>\n",
       "      <td>8799</td>\n",
       "      <td>136.66</td>\n",
       "      <td>201.42</td>\n",
       "      <td>Outliar7</td>\n",
       "      <td>Female</td>\n",
       "    </tr>\n",
       "    <tr>\n",
       "      <th>7</th>\n",
       "      <td>7295</td>\n",
       "      <td>139.38</td>\n",
       "      <td>35.66</td>\n",
       "      <td>Stanley</td>\n",
       "      <td>Male</td>\n",
       "    </tr>\n",
       "  </tbody>\n",
       "</table>\n",
       "</div>"
      ],
      "text/plain": [
       "     Id  Height  Weight      Name  Gender\n",
       "0  9383  138.88   30.23  Outliar5  Female\n",
       "1  8928  138.92   29.20  Outliar4    Male\n",
       "2  4532  204.23  117.03  Outliar3  Female\n",
       "3  2324  139.02  118.36  Outliar2    Male\n",
       "4  2323  139.03  119.37  Outliar1    Male\n",
       "5  2723  135.53  219.37  Outliar6  Female\n",
       "6  8799  136.66  201.42  Outliar7  Female\n",
       "7  7295  139.38   35.66   Stanley    Male"
      ]
     },
     "execution_count": 23,
     "metadata": {},
     "output_type": "execute_result"
    }
   ],
   "source": [
    "df2.head(8)"
   ]
  },
  {
   "cell_type": "code",
   "execution_count": 24,
   "metadata": {},
   "outputs": [],
   "source": [
    "df2Zscore = df2.copy()"
   ]
  },
  {
   "cell_type": "code",
   "execution_count": 25,
   "metadata": {},
   "outputs": [],
   "source": [
    "meanHeight = df2Zscore['Height'].mean()\n",
    "stdHeight = df2Zscore['Height'].std()"
   ]
  },
  {
   "cell_type": "code",
   "execution_count": 26,
   "metadata": {},
   "outputs": [
    {
     "data": {
      "text/plain": [
       "(np.float64(168.54939700000003), np.float64(9.774107733424543))"
      ]
     },
     "execution_count": 26,
     "metadata": {},
     "output_type": "execute_result"
    }
   ],
   "source": [
    "meanHeight,stdHeight"
   ]
  },
  {
   "cell_type": "code",
   "execution_count": 27,
   "metadata": {},
   "outputs": [
    {
     "data": {
      "text/html": [
       "<div>\n",
       "<style scoped>\n",
       "    .dataframe tbody tr th:only-of-type {\n",
       "        vertical-align: middle;\n",
       "    }\n",
       "\n",
       "    .dataframe tbody tr th {\n",
       "        vertical-align: top;\n",
       "    }\n",
       "\n",
       "    .dataframe thead th {\n",
       "        text-align: right;\n",
       "    }\n",
       "</style>\n",
       "<table border=\"1\" class=\"dataframe\">\n",
       "  <thead>\n",
       "    <tr style=\"text-align: right;\">\n",
       "      <th></th>\n",
       "      <th>Id</th>\n",
       "      <th>Height</th>\n",
       "      <th>Weight</th>\n",
       "      <th>Name</th>\n",
       "      <th>Gender</th>\n",
       "      <th>Z_ScoreHeights</th>\n",
       "    </tr>\n",
       "  </thead>\n",
       "  <tbody>\n",
       "    <tr>\n",
       "      <th>0</th>\n",
       "      <td>9383</td>\n",
       "      <td>138.88</td>\n",
       "      <td>30.23</td>\n",
       "      <td>Outliar5</td>\n",
       "      <td>Female</td>\n",
       "      <td>-3.035510</td>\n",
       "    </tr>\n",
       "    <tr>\n",
       "      <th>1</th>\n",
       "      <td>8928</td>\n",
       "      <td>138.92</td>\n",
       "      <td>29.20</td>\n",
       "      <td>Outliar4</td>\n",
       "      <td>Male</td>\n",
       "      <td>-3.031417</td>\n",
       "    </tr>\n",
       "    <tr>\n",
       "      <th>2</th>\n",
       "      <td>4532</td>\n",
       "      <td>204.23</td>\n",
       "      <td>117.03</td>\n",
       "      <td>Outliar3</td>\n",
       "      <td>Female</td>\n",
       "      <td>3.650523</td>\n",
       "    </tr>\n",
       "    <tr>\n",
       "      <th>3</th>\n",
       "      <td>2324</td>\n",
       "      <td>139.02</td>\n",
       "      <td>118.36</td>\n",
       "      <td>Outliar2</td>\n",
       "      <td>Male</td>\n",
       "      <td>-3.021186</td>\n",
       "    </tr>\n",
       "    <tr>\n",
       "      <th>4</th>\n",
       "      <td>2323</td>\n",
       "      <td>139.03</td>\n",
       "      <td>119.37</td>\n",
       "      <td>Outliar1</td>\n",
       "      <td>Male</td>\n",
       "      <td>-3.020163</td>\n",
       "    </tr>\n",
       "    <tr>\n",
       "      <th>5</th>\n",
       "      <td>2723</td>\n",
       "      <td>135.53</td>\n",
       "      <td>219.37</td>\n",
       "      <td>Outliar6</td>\n",
       "      <td>Female</td>\n",
       "      <td>-3.378252</td>\n",
       "    </tr>\n",
       "    <tr>\n",
       "      <th>6</th>\n",
       "      <td>8799</td>\n",
       "      <td>136.66</td>\n",
       "      <td>201.42</td>\n",
       "      <td>Outliar7</td>\n",
       "      <td>Female</td>\n",
       "      <td>-3.262640</td>\n",
       "    </tr>\n",
       "    <tr>\n",
       "      <th>7</th>\n",
       "      <td>7295</td>\n",
       "      <td>139.38</td>\n",
       "      <td>35.66</td>\n",
       "      <td>Stanley</td>\n",
       "      <td>Male</td>\n",
       "      <td>-2.984354</td>\n",
       "    </tr>\n",
       "  </tbody>\n",
       "</table>\n",
       "</div>"
      ],
      "text/plain": [
       "     Id  Height  Weight      Name  Gender  Z_ScoreHeights\n",
       "0  9383  138.88   30.23  Outliar5  Female       -3.035510\n",
       "1  8928  138.92   29.20  Outliar4    Male       -3.031417\n",
       "2  4532  204.23  117.03  Outliar3  Female        3.650523\n",
       "3  2324  139.02  118.36  Outliar2    Male       -3.021186\n",
       "4  2323  139.03  119.37  Outliar1    Male       -3.020163\n",
       "5  2723  135.53  219.37  Outliar6  Female       -3.378252\n",
       "6  8799  136.66  201.42  Outliar7  Female       -3.262640\n",
       "7  7295  139.38   35.66   Stanley    Male       -2.984354"
      ]
     },
     "execution_count": 27,
     "metadata": {},
     "output_type": "execute_result"
    }
   ],
   "source": [
    "df2Zscore['Z_ScoreHeights'] = (df2Zscore.Height - meanHeight)/stdHeight\n",
    "df2Zscore.head(8)"
   ]
  },
  {
   "cell_type": "code",
   "execution_count": null,
   "metadata": {},
   "outputs": [],
   "source": []
  },
  {
   "cell_type": "code",
   "execution_count": 28,
   "metadata": {},
   "outputs": [
    {
     "data": {
      "text/plain": [
       "(7, 6)"
      ]
     },
     "execution_count": 28,
     "metadata": {},
     "output_type": "execute_result"
    }
   ],
   "source": [
    "outliarsZscore = df2Zscore[(df2Zscore.Z_ScoreHeights<-3)|(df2Zscore.Z_ScoreHeights>3)]\n",
    "outliarsZscore.shape"
   ]
  },
  {
   "cell_type": "code",
   "execution_count": 29,
   "metadata": {},
   "outputs": [
    {
     "data": {
      "text/html": [
       "<div>\n",
       "<style scoped>\n",
       "    .dataframe tbody tr th:only-of-type {\n",
       "        vertical-align: middle;\n",
       "    }\n",
       "\n",
       "    .dataframe tbody tr th {\n",
       "        vertical-align: top;\n",
       "    }\n",
       "\n",
       "    .dataframe thead th {\n",
       "        text-align: right;\n",
       "    }\n",
       "</style>\n",
       "<table border=\"1\" class=\"dataframe\">\n",
       "  <thead>\n",
       "    <tr style=\"text-align: right;\">\n",
       "      <th></th>\n",
       "      <th>Id</th>\n",
       "      <th>Height</th>\n",
       "      <th>Weight</th>\n",
       "      <th>Name</th>\n",
       "      <th>Gender</th>\n",
       "      <th>Z_ScoreHeights</th>\n",
       "    </tr>\n",
       "  </thead>\n",
       "  <tbody>\n",
       "    <tr>\n",
       "      <th>0</th>\n",
       "      <td>9383</td>\n",
       "      <td>138.88</td>\n",
       "      <td>30.23</td>\n",
       "      <td>Outliar5</td>\n",
       "      <td>Female</td>\n",
       "      <td>-3.035510</td>\n",
       "    </tr>\n",
       "    <tr>\n",
       "      <th>1</th>\n",
       "      <td>8928</td>\n",
       "      <td>138.92</td>\n",
       "      <td>29.20</td>\n",
       "      <td>Outliar4</td>\n",
       "      <td>Male</td>\n",
       "      <td>-3.031417</td>\n",
       "    </tr>\n",
       "    <tr>\n",
       "      <th>2</th>\n",
       "      <td>4532</td>\n",
       "      <td>204.23</td>\n",
       "      <td>117.03</td>\n",
       "      <td>Outliar3</td>\n",
       "      <td>Female</td>\n",
       "      <td>3.650523</td>\n",
       "    </tr>\n",
       "    <tr>\n",
       "      <th>3</th>\n",
       "      <td>2324</td>\n",
       "      <td>139.02</td>\n",
       "      <td>118.36</td>\n",
       "      <td>Outliar2</td>\n",
       "      <td>Male</td>\n",
       "      <td>-3.021186</td>\n",
       "    </tr>\n",
       "    <tr>\n",
       "      <th>4</th>\n",
       "      <td>2323</td>\n",
       "      <td>139.03</td>\n",
       "      <td>119.37</td>\n",
       "      <td>Outliar1</td>\n",
       "      <td>Male</td>\n",
       "      <td>-3.020163</td>\n",
       "    </tr>\n",
       "    <tr>\n",
       "      <th>5</th>\n",
       "      <td>2723</td>\n",
       "      <td>135.53</td>\n",
       "      <td>219.37</td>\n",
       "      <td>Outliar6</td>\n",
       "      <td>Female</td>\n",
       "      <td>-3.378252</td>\n",
       "    </tr>\n",
       "    <tr>\n",
       "      <th>6</th>\n",
       "      <td>8799</td>\n",
       "      <td>136.66</td>\n",
       "      <td>201.42</td>\n",
       "      <td>Outliar7</td>\n",
       "      <td>Female</td>\n",
       "      <td>-3.262640</td>\n",
       "    </tr>\n",
       "  </tbody>\n",
       "</table>\n",
       "</div>"
      ],
      "text/plain": [
       "     Id  Height  Weight      Name  Gender  Z_ScoreHeights\n",
       "0  9383  138.88   30.23  Outliar5  Female       -3.035510\n",
       "1  8928  138.92   29.20  Outliar4    Male       -3.031417\n",
       "2  4532  204.23  117.03  Outliar3  Female        3.650523\n",
       "3  2324  139.02  118.36  Outliar2    Male       -3.021186\n",
       "4  2323  139.03  119.37  Outliar1    Male       -3.020163\n",
       "5  2723  135.53  219.37  Outliar6  Female       -3.378252\n",
       "6  8799  136.66  201.42  Outliar7  Female       -3.262640"
      ]
     },
     "execution_count": 29,
     "metadata": {},
     "output_type": "execute_result"
    }
   ],
   "source": [
    "outliarsZscore"
   ]
  },
  {
   "cell_type": "code",
   "execution_count": null,
   "metadata": {},
   "outputs": [],
   "source": []
  },
  {
   "cell_type": "code",
   "execution_count": 30,
   "metadata": {},
   "outputs": [
    {
     "data": {
      "text/plain": [
       "(9993, 6)"
      ]
     },
     "execution_count": 30,
     "metadata": {},
     "output_type": "execute_result"
    }
   ],
   "source": [
    "newValidDataNew = df2Zscore[(df2Zscore.Z_ScoreHeights >= -3)&(df2Zscore.Z_ScoreHeights<=3)]\n",
    "newValidDataNew.shape"
   ]
  },
  {
   "cell_type": "code",
   "execution_count": null,
   "metadata": {},
   "outputs": [],
   "source": []
  },
  {
   "cell_type": "code",
   "execution_count": null,
   "metadata": {},
   "outputs": [],
   "source": []
  },
  {
   "cell_type": "code",
   "execution_count": null,
   "metadata": {},
   "outputs": [],
   "source": []
  },
  {
   "cell_type": "code",
   "execution_count": null,
   "metadata": {},
   "outputs": [],
   "source": []
  }
 ],
 "metadata": {
  "kernelspec": {
   "display_name": "Python 3",
   "language": "python",
   "name": "python3"
  },
  "language_info": {
   "codemirror_mode": {
    "name": "ipython",
    "version": 3
   },
   "file_extension": ".py",
   "mimetype": "text/x-python",
   "name": "python",
   "nbconvert_exporter": "python",
   "pygments_lexer": "ipython3",
   "version": "3.13.2"
  }
 },
 "nbformat": 4,
 "nbformat_minor": 2
}
