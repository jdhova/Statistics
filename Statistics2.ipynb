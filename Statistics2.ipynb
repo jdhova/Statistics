{
 "cells": [
  {
   "cell_type": "code",
   "execution_count": 266,
   "metadata": {},
   "outputs": [],
   "source": [
    "import pandas as pd \n",
    "import numpy as np\n",
    "from matplotlib import pyplot as plt \n",
    "import matplotlib.pyplot as plts\n",
    "import seaborn as sns"
   ]
  },
  {
   "cell_type": "markdown",
   "metadata": {},
   "source": [
    "##### Task : This Task is aimed at showing the steps of removing outliars, Data set has a normal distribution with limited or no  outliars\n",
    "##### I will be adding a couple of outliars to the table and steps show how the Outliars I manually added will be removed.\n",
    "##### Aim: This poves we can remove outliars from data with normal perfect distribution with the  given steps "
   ]
  },
  {
   "cell_type": "code",
   "execution_count": null,
   "metadata": {},
   "outputs": [],
   "source": []
  },
  {
   "cell_type": "code",
   "execution_count": 267,
   "metadata": {},
   "outputs": [
    {
     "data": {
      "text/plain": [
       "(10000, 5)"
      ]
     },
     "execution_count": 267,
     "metadata": {},
     "output_type": "execute_result"
    }
   ],
   "source": [
    "df =  pd.read_csv('./Data/NameHeighWeightMetric.csv')\n",
    "df.shape"
   ]
  },
  {
   "cell_type": "code",
   "execution_count": 268,
   "metadata": {},
   "outputs": [
    {
     "data": {
      "text/plain": [
       "((10000, 5), (10000, 5))"
      ]
     },
     "execution_count": 268,
     "metadata": {},
     "output_type": "execute_result"
    }
   ],
   "source": [
    "df2 = df.copy()\n",
    "df.shape,df2.shape\n"
   ]
  },
  {
   "cell_type": "code",
   "execution_count": null,
   "metadata": {},
   "outputs": [],
   "source": []
  },
  {
   "cell_type": "code",
   "execution_count": 269,
   "metadata": {},
   "outputs": [
    {
     "data": {
      "text/html": [
       "<div>\n",
       "<style scoped>\n",
       "    .dataframe tbody tr th:only-of-type {\n",
       "        vertical-align: middle;\n",
       "    }\n",
       "\n",
       "    .dataframe tbody tr th {\n",
       "        vertical-align: top;\n",
       "    }\n",
       "\n",
       "    .dataframe thead th {\n",
       "        text-align: right;\n",
       "    }\n",
       "</style>\n",
       "<table border=\"1\" class=\"dataframe\">\n",
       "  <thead>\n",
       "    <tr style=\"text-align: right;\">\n",
       "      <th></th>\n",
       "      <th>Id</th>\n",
       "      <th>Height</th>\n",
       "      <th>Weight</th>\n",
       "      <th>Name</th>\n",
       "      <th>Gender</th>\n",
       "    </tr>\n",
       "  </thead>\n",
       "  <tbody>\n",
       "    <tr>\n",
       "      <th>0</th>\n",
       "      <td>1</td>\n",
       "      <td>187.57</td>\n",
       "      <td>109.72</td>\n",
       "      <td>Mary</td>\n",
       "      <td>Female</td>\n",
       "    </tr>\n",
       "    <tr>\n",
       "      <th>1</th>\n",
       "      <td>2</td>\n",
       "      <td>174.71</td>\n",
       "      <td>73.62</td>\n",
       "      <td>Anna</td>\n",
       "      <td>Female</td>\n",
       "    </tr>\n",
       "    <tr>\n",
       "      <th>2</th>\n",
       "      <td>3</td>\n",
       "      <td>188.24</td>\n",
       "      <td>96.50</td>\n",
       "      <td>Emma</td>\n",
       "      <td>Female</td>\n",
       "    </tr>\n",
       "    <tr>\n",
       "      <th>3</th>\n",
       "      <td>4</td>\n",
       "      <td>182.20</td>\n",
       "      <td>99.81</td>\n",
       "      <td>Elizabeth</td>\n",
       "      <td>Female</td>\n",
       "    </tr>\n",
       "    <tr>\n",
       "      <th>4</th>\n",
       "      <td>5</td>\n",
       "      <td>177.50</td>\n",
       "      <td>93.60</td>\n",
       "      <td>Minnie</td>\n",
       "      <td>Female</td>\n",
       "    </tr>\n",
       "  </tbody>\n",
       "</table>\n",
       "</div>"
      ],
      "text/plain": [
       "   Id  Height  Weight       Name  Gender\n",
       "0   1  187.57  109.72       Mary  Female\n",
       "1   2  174.71   73.62       Anna  Female\n",
       "2   3  188.24   96.50       Emma  Female\n",
       "3   4  182.20   99.81  Elizabeth  Female\n",
       "4   5  177.50   93.60     Minnie  Female"
      ]
     },
     "execution_count": 269,
     "metadata": {},
     "output_type": "execute_result"
    }
   ],
   "source": [
    "df2.head(5)"
   ]
  },
  {
   "cell_type": "code",
   "execution_count": 270,
   "metadata": {},
   "outputs": [
    {
     "data": {
      "text/plain": [
       "count    10000.000000\n",
       "mean       168.573573\n",
       "std          9.772756\n",
       "min        137.830000\n",
       "25%        161.300000\n",
       "50%        168.450000\n",
       "75%        175.702500\n",
       "max        200.660000\n",
       "Name: Height, dtype: float64"
      ]
     },
     "execution_count": 270,
     "metadata": {},
     "output_type": "execute_result"
    }
   ],
   "source": [
    "df2.Height.describe()"
   ]
  },
  {
   "cell_type": "code",
   "execution_count": 271,
   "metadata": {},
   "outputs": [
    {
     "data": {
      "text/plain": [
       "count    10000.000000\n",
       "mean        73.228059\n",
       "std         14.564130\n",
       "min         29.350000\n",
       "25%         61.607500\n",
       "50%         73.125000\n",
       "75%         84.902500\n",
       "max        122.470000\n",
       "Name: Weight, dtype: float64"
      ]
     },
     "execution_count": 271,
     "metadata": {},
     "output_type": "execute_result"
    }
   ],
   "source": [
    "df2.Weight.describe()"
   ]
  },
  {
   "cell_type": "code",
   "execution_count": 272,
   "metadata": {},
   "outputs": [],
   "source": [
    "##### Starting with some data exploration  to find height and geright by Gender"
   ]
  },
  {
   "cell_type": "markdown",
   "metadata": {},
   "source": [
    "dataMale = df2[df2['Gender'] == 'Male']\n",
    "dataMale"
   ]
  },
  {
   "cell_type": "code",
   "execution_count": 273,
   "metadata": {},
   "outputs": [
    {
     "data": {
      "text/html": [
       "<div>\n",
       "<style scoped>\n",
       "    .dataframe tbody tr th:only-of-type {\n",
       "        vertical-align: middle;\n",
       "    }\n",
       "\n",
       "    .dataframe tbody tr th {\n",
       "        vertical-align: top;\n",
       "    }\n",
       "\n",
       "    .dataframe thead th {\n",
       "        text-align: right;\n",
       "    }\n",
       "</style>\n",
       "<table border=\"1\" class=\"dataframe\">\n",
       "  <thead>\n",
       "    <tr style=\"text-align: right;\">\n",
       "      <th></th>\n",
       "      <th>Id</th>\n",
       "      <th>Height</th>\n",
       "      <th>Weight</th>\n",
       "      <th>Name</th>\n",
       "      <th>Gender</th>\n",
       "    </tr>\n",
       "  </thead>\n",
       "  <tbody>\n",
       "    <tr>\n",
       "      <th>942</th>\n",
       "      <td>943</td>\n",
       "      <td>180.65</td>\n",
       "      <td>89.51</td>\n",
       "      <td>John</td>\n",
       "      <td>Male</td>\n",
       "    </tr>\n",
       "    <tr>\n",
       "      <th>943</th>\n",
       "      <td>944</td>\n",
       "      <td>159.52</td>\n",
       "      <td>67.41</td>\n",
       "      <td>William</td>\n",
       "      <td>Male</td>\n",
       "    </tr>\n",
       "    <tr>\n",
       "      <th>944</th>\n",
       "      <td>945</td>\n",
       "      <td>179.86</td>\n",
       "      <td>91.27</td>\n",
       "      <td>James</td>\n",
       "      <td>Male</td>\n",
       "    </tr>\n",
       "    <tr>\n",
       "      <th>945</th>\n",
       "      <td>946</td>\n",
       "      <td>176.66</td>\n",
       "      <td>90.35</td>\n",
       "      <td>Charles</td>\n",
       "      <td>Male</td>\n",
       "    </tr>\n",
       "    <tr>\n",
       "      <th>946</th>\n",
       "      <td>947</td>\n",
       "      <td>170.26</td>\n",
       "      <td>85.48</td>\n",
       "      <td>George</td>\n",
       "      <td>Male</td>\n",
       "    </tr>\n",
       "  </tbody>\n",
       "</table>\n",
       "</div>"
      ],
      "text/plain": [
       "      Id  Height  Weight     Name Gender\n",
       "942  943  180.65   89.51     John   Male\n",
       "943  944  159.52   67.41  William   Male\n",
       "944  945  179.86   91.27    James   Male\n",
       "945  946  176.66   90.35  Charles   Male\n",
       "946  947  170.26   85.48   George   Male"
      ]
     },
     "execution_count": 273,
     "metadata": {},
     "output_type": "execute_result"
    }
   ],
   "source": [
    "dataMale = df2[df2['Gender'] == 'Male']\n",
    "dataMale.head(5)"
   ]
  },
  {
   "cell_type": "code",
   "execution_count": 274,
   "metadata": {},
   "outputs": [
    {
     "data": {
      "text/html": [
       "<div>\n",
       "<style scoped>\n",
       "    .dataframe tbody tr th:only-of-type {\n",
       "        vertical-align: middle;\n",
       "    }\n",
       "\n",
       "    .dataframe tbody tr th {\n",
       "        vertical-align: top;\n",
       "    }\n",
       "\n",
       "    .dataframe thead th {\n",
       "        text-align: right;\n",
       "    }\n",
       "</style>\n",
       "<table border=\"1\" class=\"dataframe\">\n",
       "  <thead>\n",
       "    <tr style=\"text-align: right;\">\n",
       "      <th></th>\n",
       "      <th>Id</th>\n",
       "      <th>Height</th>\n",
       "      <th>Weight</th>\n",
       "      <th>Name</th>\n",
       "      <th>Gender</th>\n",
       "    </tr>\n",
       "  </thead>\n",
       "  <tbody>\n",
       "    <tr>\n",
       "      <th>0</th>\n",
       "      <td>1</td>\n",
       "      <td>187.57</td>\n",
       "      <td>109.72</td>\n",
       "      <td>Mary</td>\n",
       "      <td>Female</td>\n",
       "    </tr>\n",
       "    <tr>\n",
       "      <th>1</th>\n",
       "      <td>2</td>\n",
       "      <td>174.71</td>\n",
       "      <td>73.62</td>\n",
       "      <td>Anna</td>\n",
       "      <td>Female</td>\n",
       "    </tr>\n",
       "    <tr>\n",
       "      <th>2</th>\n",
       "      <td>3</td>\n",
       "      <td>188.24</td>\n",
       "      <td>96.50</td>\n",
       "      <td>Emma</td>\n",
       "      <td>Female</td>\n",
       "    </tr>\n",
       "    <tr>\n",
       "      <th>3</th>\n",
       "      <td>4</td>\n",
       "      <td>182.20</td>\n",
       "      <td>99.81</td>\n",
       "      <td>Elizabeth</td>\n",
       "      <td>Female</td>\n",
       "    </tr>\n",
       "    <tr>\n",
       "      <th>4</th>\n",
       "      <td>5</td>\n",
       "      <td>177.50</td>\n",
       "      <td>93.60</td>\n",
       "      <td>Minnie</td>\n",
       "      <td>Female</td>\n",
       "    </tr>\n",
       "  </tbody>\n",
       "</table>\n",
       "</div>"
      ],
      "text/plain": [
       "   Id  Height  Weight       Name  Gender\n",
       "0   1  187.57  109.72       Mary  Female\n",
       "1   2  174.71   73.62       Anna  Female\n",
       "2   3  188.24   96.50       Emma  Female\n",
       "3   4  182.20   99.81  Elizabeth  Female\n",
       "4   5  177.50   93.60     Minnie  Female"
      ]
     },
     "execution_count": 274,
     "metadata": {},
     "output_type": "execute_result"
    }
   ],
   "source": [
    "dataFemale = df2[df2['Gender'] == 'Female']\n",
    "dataFemale.head(5)"
   ]
  },
  {
   "cell_type": "code",
   "execution_count": 275,
   "metadata": {},
   "outputs": [
    {
     "data": {
      "text/plain": [
       "((4866, 5), (5134, 5))"
      ]
     },
     "execution_count": 275,
     "metadata": {},
     "output_type": "execute_result"
    }
   ],
   "source": [
    "dataMale.shape,dataFemale.shape"
   ]
  },
  {
   "cell_type": "code",
   "execution_count": 276,
   "metadata": {},
   "outputs": [],
   "source": [
    "#### Confirming we have an even distribution"
   ]
  },
  {
   "cell_type": "code",
   "execution_count": 277,
   "metadata": {},
   "outputs": [
    {
     "data": {
      "text/plain": [
       "<Axes: xlabel='Height', ylabel='Count'>"
      ]
     },
     "execution_count": 277,
     "metadata": {},
     "output_type": "execute_result"
    },
    {
     "data": {
      "image/png": "[encoded data removed]",
      "text/plain": [
       "<Figure size 640x480 with 1 Axes>"
      ]
     },
     "metadata": {},
     "output_type": "display_data"
    }
   ],
   "source": [
    "sns.histplot(dataMale.Height,kde= True,color='blue')\n",
    "sns.histplot(dataFemale.Height,kde= True,color='red')"
   ]
  },
  {
   "cell_type": "code",
   "execution_count": 278,
   "metadata": {},
   "outputs": [],
   "source": [
    "##### Using the Full Data Set so I can get outliars"
   ]
  },
  {
   "cell_type": "code",
   "execution_count": 279,
   "metadata": {},
   "outputs": [],
   "source": [
    "##### Finding the Outliars with sns plot "
   ]
  },
  {
   "cell_type": "code",
   "execution_count": 280,
   "metadata": {},
   "outputs": [
    {
     "data": {
      "text/plain": [
       "(np.float64(168.573573), np.float64(9.772755626686104))"
      ]
     },
     "execution_count": 280,
     "metadata": {},
     "output_type": "execute_result"
    }
   ],
   "source": [
    "meanHeight,stdHeight = df2.Height.mean(),df2.Height.std()\n",
    "meanHeight,stdHeight"
   ]
  },
  {
   "cell_type": "code",
   "execution_count": null,
   "metadata": {},
   "outputs": [],
   "source": []
  },
  {
   "cell_type": "code",
   "execution_count": 281,
   "metadata": {},
   "outputs": [
    {
     "data": {
      "text/plain": [
       "<matplotlib.lines.Line2D at 0x1aea33da850>"
      ]
     },
     "execution_count": 281,
     "metadata": {},
     "output_type": "execute_result"
    },
    {
     "data": {
      "image/png": "[encoded data removed]",
      "text/plain": [
       "<Figure size 640x480 with 1 Axes>"
      ]
     },
     "metadata": {},
     "output_type": "display_data"
    }
   ],
   "source": [
    "sns.histplot(df2.Height, kde= True)\n",
    "plt.axvline(meanHeight, color='r',linestyle = 'solid',linewidth =1)\n",
    "\n",
    "\n",
    "plt.axvline(meanHeight + stdHeight, color='b',linestyle = 'dashed', linewidth =1)\n",
    "plt.axvline(meanHeight - stdHeight, color='b',linestyle = 'dashed', linewidth =1)\n",
    "\n",
    "\n",
    "plt.axvline(meanHeight + 2* stdHeight, color='g',linestyle = 'dashed', linewidth =1)\n",
    "plt.axvline(meanHeight - 2* stdHeight, color='g',linestyle = 'dashed', linewidth =1)\n",
    "\n",
    "\n",
    "\n",
    "plt.axvline(meanHeight + 3* stdHeight, color='black',linestyle = 'dashed', linewidth =1)\n",
    "plt.axvline(meanHeight - 3* stdHeight, color='black',linestyle = 'dashed', linewidth =1)"
   ]
  },
  {
   "cell_type": "code",
   "execution_count": 282,
   "metadata": {},
   "outputs": [],
   "source": [
    "##### Confirming if its a normal distribution "
   ]
  },
  {
   "cell_type": "code",
   "execution_count": 283,
   "metadata": {},
   "outputs": [],
   "source": [
    "l1,r1 = round(meanHeight - stdHeight,2),round(meanHeight + stdHeight,2)\n",
    "l2,r2 = round(meanHeight - 2*stdHeight,2),round(meanHeight + 2*stdHeight,2)\n",
    "l3,r3 = round(meanHeight - 3*stdHeight,2),round(meanHeight + 3*stdHeight,2)"
   ]
  },
  {
   "cell_type": "code",
   "execution_count": 284,
   "metadata": {},
   "outputs": [
    {
     "data": {
      "text/plain": [
       "(np.float64(158.8),\n",
       " np.float64(178.35),\n",
       " np.float64(149.03),\n",
       " np.float64(188.12),\n",
       " np.float64(139.26),\n",
       " np.float64(197.89))"
      ]
     },
     "execution_count": 284,
     "metadata": {},
     "output_type": "execute_result"
    }
   ],
   "source": [
    "l1,r1,l2,r2,l3,r3"
   ]
  },
  {
   "cell_type": "code",
   "execution_count": 285,
   "metadata": {},
   "outputs": [],
   "source": [
    "pge1 = (df2[(df2.Height>l1)&(df2.Height<r1)].shape[0]/df2.shape[0])*100\n",
    "pge2 = (df2[(df2.Height>l2)&(df2.Height<r2)].shape[0]/df2.shape[0])*100\n",
    "pge3= (df2[(df2.Height>l3)&(df2.Height<r3)].shape[0]/df2.shape[0])*100"
   ]
  },
  {
   "cell_type": "code",
   "execution_count": 286,
   "metadata": {},
   "outputs": [
    {
     "data": {
      "text/plain": [
       "(65.25999999999999, 96.52, 99.92999999999999)"
      ]
     },
     "execution_count": 286,
     "metadata": {},
     "output_type": "execute_result"
    }
   ],
   "source": [
    "pge1,pge2,pge3 "
   ]
  },
  {
   "cell_type": "code",
   "execution_count": 287,
   "metadata": {},
   "outputs": [
    {
     "data": {
      "text/plain": [
       "(9993, 5)"
      ]
     },
     "execution_count": 287,
     "metadata": {},
     "output_type": "execute_result"
    }
   ],
   "source": [
    "data_within_l3_r3 = df2[(df2['Height'] >= l3) & (df2['Height'] <= r3)]\n",
    "data_within_l3_r3.shape"
   ]
  },
  {
   "cell_type": "code",
   "execution_count": 288,
   "metadata": {},
   "outputs": [
    {
     "data": {
      "text/plain": [
       "(7, 5)"
      ]
     },
     "execution_count": 288,
     "metadata": {},
     "output_type": "execute_result"
    }
   ],
   "source": [
    "data_outside_l3_r3 = df2[(df2['Height'] < l3) | (df2['Height'] > r3)]\n",
    "data_outside_l3_r3.shape"
   ]
  },
  {
   "cell_type": "code",
   "execution_count": 289,
   "metadata": {},
   "outputs": [
    {
     "data": {
      "text/plain": [
       "(np.float64(139.26), np.float64(197.89))"
      ]
     },
     "execution_count": 289,
     "metadata": {},
     "output_type": "execute_result"
    }
   ],
   "source": [
    "l3,r3"
   ]
  },
  {
   "cell_type": "code",
   "execution_count": 290,
   "metadata": {},
   "outputs": [
    {
     "data": {
      "text/plain": [
       "((9993, 5), (7, 5))"
      ]
     },
     "execution_count": 290,
     "metadata": {},
     "output_type": "execute_result"
    }
   ],
   "source": [
    "clean_data,outliars_data = data_within_l3_r3.copy(),data_outside_l3_r3.copy()\n",
    "clean_data.shape,outliars_data.shape"
   ]
  },
  {
   "cell_type": "code",
   "execution_count": null,
   "metadata": {},
   "outputs": [],
   "source": []
  },
  {
   "cell_type": "code",
   "execution_count": null,
   "metadata": {},
   "outputs": [],
   "source": [
    "# df2_cleaned = df2.drop(data_outside_l3_r3.index)\n",
    "# df2_cleaned.shape"
   ]
  },
  {
   "cell_type": "code",
   "execution_count": null,
   "metadata": {},
   "outputs": [],
   "source": [
    "# data_not_in_cleaned_data = df2.merge(cleaned_data, on=['Id', 'Height', 'Weight', 'Name', 'Gender'], how='left', indicator=True)\n",
    "# data_not_in_cleaned_data = data_not_in_cleaned_data[data_not_in_cleaned_data['_merge'] == 'left_only']\n",
    "# data_not_in_cleaned_data = data_not_in_cleaned_data.drop(columns=['_merge'])\n",
    "# data_not_in_cleaned_data"
   ]
  },
  {
   "cell_type": "code",
   "execution_count": null,
   "metadata": {},
   "outputs": [],
   "source": [
    "df2Zscore = df2.copy()"
   ]
  },
  {
   "cell_type": "code",
   "execution_count": null,
   "metadata": {},
   "outputs": [
    {
     "data": {
      "text/plain": [
       "(10000, 6)"
      ]
     },
     "execution_count": 265,
     "metadata": {},
     "output_type": "execute_result"
    }
   ],
   "source": [
    "df2Zscore['Z_ScoreHeights'] = (df2Zscore.Height - meanHeight)/stdHeight\n",
    "df2Zscore.shape"
   ]
  },
  {
   "cell_type": "code",
   "execution_count": 294,
   "metadata": {},
   "outputs": [
    {
     "data": {
      "text/plain": [
       "(np.float64(168.573573), np.float64(9.772755626686104))"
      ]
     },
     "execution_count": 294,
     "metadata": {},
     "output_type": "execute_result"
    }
   ],
   "source": [
    "meanHeight,stdHeight"
   ]
  },
  {
   "cell_type": "code",
   "execution_count": null,
   "metadata": {},
   "outputs": [
    {
     "data": {
      "text/plain": [
       "(7, 6)"
      ]
     },
     "execution_count": 256,
     "metadata": {},
     "output_type": "execute_result"
    }
   ],
   "source": [
    "outliarsZscore = df2Zscore[(df2Zscore.Z_ScoreHeights<-3)|(df2Zscore.Z_ScoreHeights>3)]\n",
    "outliarsZscore.shape"
   ]
  },
  {
   "cell_type": "code",
   "execution_count": null,
   "metadata": {},
   "outputs": [
    {
     "data": {
      "text/plain": [
       "(9993, 6)"
      ]
     },
     "execution_count": 257,
     "metadata": {},
     "output_type": "execute_result"
    }
   ],
   "source": [
    "newValidDataNew = df2Zscore[(df2Zscore.Z_ScoreHeights >= -3)&(df2Zscore.Z_ScoreHeights<=3)]\n",
    "newValidDataNew.shape"
   ]
  },
  {
   "cell_type": "code",
   "execution_count": 293,
   "metadata": {},
   "outputs": [
    {
     "data": {
      "text/plain": [
       "count    9993.000000\n",
       "mean       73.216318\n",
       "std        14.528090\n",
       "min        31.290000\n",
       "25%        61.610000\n",
       "50%        73.120000\n",
       "75%        84.880000\n",
       "max       116.060000\n",
       "Name: Weight, dtype: float64"
      ]
     },
     "execution_count": 293,
     "metadata": {},
     "output_type": "execute_result"
    }
   ],
   "source": [
    "newValidDataNew.Weight.describe()"
   ]
  },
  {
   "cell_type": "code",
   "execution_count": null,
   "metadata": {},
   "outputs": [
    {
     "data": {
      "text/html": [
       "<div>\n",
       "<style scoped>\n",
       "    .dataframe tbody tr th:only-of-type {\n",
       "        vertical-align: middle;\n",
       "    }\n",
       "\n",
       "    .dataframe tbody tr th {\n",
       "        vertical-align: top;\n",
       "    }\n",
       "\n",
       "    .dataframe thead th {\n",
       "        text-align: right;\n",
       "    }\n",
       "</style>\n",
       "<table border=\"1\" class=\"dataframe\">\n",
       "  <thead>\n",
       "    <tr style=\"text-align: right;\">\n",
       "      <th></th>\n",
       "      <th>Id</th>\n",
       "      <th>Height</th>\n",
       "      <th>Weight</th>\n",
       "      <th>Name</th>\n",
       "      <th>Gender</th>\n",
       "      <th>Z_ScoreHeights</th>\n",
       "    </tr>\n",
       "  </thead>\n",
       "  <tbody>\n",
       "    <tr>\n",
       "      <th>994</th>\n",
       "      <td>995</td>\n",
       "      <td>198.36</td>\n",
       "      <td>115.98</td>\n",
       "      <td>Eugene</td>\n",
       "      <td>Male</td>\n",
       "      <td>3.047905</td>\n",
       "    </tr>\n",
       "    <tr>\n",
       "      <th>1317</th>\n",
       "      <td>1318</td>\n",
       "      <td>199.29</td>\n",
       "      <td>103.12</td>\n",
       "      <td>Hans</td>\n",
       "      <td>Male</td>\n",
       "      <td>3.143067</td>\n",
       "    </tr>\n",
       "    <tr>\n",
       "      <th>2014</th>\n",
       "      <td>2015</td>\n",
       "      <td>200.66</td>\n",
       "      <td>122.47</td>\n",
       "      <td>Grace</td>\n",
       "      <td>Female</td>\n",
       "      <td>3.283253</td>\n",
       "    </tr>\n",
       "    <tr>\n",
       "      <th>3285</th>\n",
       "      <td>3286</td>\n",
       "      <td>199.46</td>\n",
       "      <td>115.16</td>\n",
       "      <td>Berry</td>\n",
       "      <td>Male</td>\n",
       "      <td>3.160462</td>\n",
       "    </tr>\n",
       "    <tr>\n",
       "      <th>3757</th>\n",
       "      <td>3758</td>\n",
       "      <td>199.70</td>\n",
       "      <td>111.46</td>\n",
       "      <td>Hector</td>\n",
       "      <td>Male</td>\n",
       "      <td>3.185020</td>\n",
       "    </tr>\n",
       "    <tr>\n",
       "      <th>6624</th>\n",
       "      <td>6625</td>\n",
       "      <td>138.73</td>\n",
       "      <td>32.38</td>\n",
       "      <td>Camilla</td>\n",
       "      <td>Female</td>\n",
       "      <td>-3.053752</td>\n",
       "    </tr>\n",
       "    <tr>\n",
       "      <th>9285</th>\n",
       "      <td>9286</td>\n",
       "      <td>137.83</td>\n",
       "      <td>29.35</td>\n",
       "      <td>Ralph</td>\n",
       "      <td>Female</td>\n",
       "      <td>-3.145845</td>\n",
       "    </tr>\n",
       "  </tbody>\n",
       "</table>\n",
       "</div>"
      ],
      "text/plain": [
       "        Id  Height  Weight     Name  Gender  Z_ScoreHeights\n",
       "994    995  198.36  115.98   Eugene    Male        3.047905\n",
       "1317  1318  199.29  103.12     Hans    Male        3.143067\n",
       "2014  2015  200.66  122.47    Grace  Female        3.283253\n",
       "3285  3286  199.46  115.16    Berry    Male        3.160462\n",
       "3757  3758  199.70  111.46   Hector    Male        3.185020\n",
       "6624  6625  138.73   32.38  Camilla  Female       -3.053752\n",
       "9285  9286  137.83   29.35    Ralph  Female       -3.145845"
      ]
     },
     "execution_count": 258,
     "metadata": {},
     "output_type": "execute_result"
    }
   ],
   "source": [
    "outliarsZscore"
   ]
  },
  {
   "cell_type": "code",
   "execution_count": null,
   "metadata": {},
   "outputs": [
    {
     "data": {
      "text/html": [
       "<div>\n",
       "<style scoped>\n",
       "    .dataframe tbody tr th:only-of-type {\n",
       "        vertical-align: middle;\n",
       "    }\n",
       "\n",
       "    .dataframe tbody tr th {\n",
       "        vertical-align: top;\n",
       "    }\n",
       "\n",
       "    .dataframe thead th {\n",
       "        text-align: right;\n",
       "    }\n",
       "</style>\n",
       "<table border=\"1\" class=\"dataframe\">\n",
       "  <thead>\n",
       "    <tr style=\"text-align: right;\">\n",
       "      <th></th>\n",
       "      <th>Id</th>\n",
       "      <th>Height</th>\n",
       "      <th>Weight</th>\n",
       "      <th>Name</th>\n",
       "      <th>Gender</th>\n",
       "    </tr>\n",
       "  </thead>\n",
       "  <tbody>\n",
       "    <tr>\n",
       "      <th>994</th>\n",
       "      <td>995</td>\n",
       "      <td>198.36</td>\n",
       "      <td>115.98</td>\n",
       "      <td>Eugene</td>\n",
       "      <td>Male</td>\n",
       "    </tr>\n",
       "    <tr>\n",
       "      <th>1317</th>\n",
       "      <td>1318</td>\n",
       "      <td>199.29</td>\n",
       "      <td>103.12</td>\n",
       "      <td>Hans</td>\n",
       "      <td>Male</td>\n",
       "    </tr>\n",
       "    <tr>\n",
       "      <th>2014</th>\n",
       "      <td>2015</td>\n",
       "      <td>200.66</td>\n",
       "      <td>122.47</td>\n",
       "      <td>Grace</td>\n",
       "      <td>Female</td>\n",
       "    </tr>\n",
       "    <tr>\n",
       "      <th>3285</th>\n",
       "      <td>3286</td>\n",
       "      <td>199.46</td>\n",
       "      <td>115.16</td>\n",
       "      <td>Berry</td>\n",
       "      <td>Male</td>\n",
       "    </tr>\n",
       "    <tr>\n",
       "      <th>3757</th>\n",
       "      <td>3758</td>\n",
       "      <td>199.70</td>\n",
       "      <td>111.46</td>\n",
       "      <td>Hector</td>\n",
       "      <td>Male</td>\n",
       "    </tr>\n",
       "    <tr>\n",
       "      <th>6624</th>\n",
       "      <td>6625</td>\n",
       "      <td>138.73</td>\n",
       "      <td>32.38</td>\n",
       "      <td>Camilla</td>\n",
       "      <td>Female</td>\n",
       "    </tr>\n",
       "    <tr>\n",
       "      <th>9285</th>\n",
       "      <td>9286</td>\n",
       "      <td>137.83</td>\n",
       "      <td>29.35</td>\n",
       "      <td>Ralph</td>\n",
       "      <td>Female</td>\n",
       "    </tr>\n",
       "  </tbody>\n",
       "</table>\n",
       "</div>"
      ],
      "text/plain": [
       "        Id  Height  Weight     Name  Gender\n",
       "994    995  198.36  115.98   Eugene    Male\n",
       "1317  1318  199.29  103.12     Hans    Male\n",
       "2014  2015  200.66  122.47    Grace  Female\n",
       "3285  3286  199.46  115.16    Berry    Male\n",
       "3757  3758  199.70  111.46   Hector    Male\n",
       "6624  6625  138.73   32.38  Camilla  Female\n",
       "9285  9286  137.83   29.35    Ralph  Female"
      ]
     },
     "execution_count": 259,
     "metadata": {},
     "output_type": "execute_result"
    }
   ],
   "source": [
    "outliars_data"
   ]
  },
  {
   "cell_type": "code",
   "execution_count": 292,
   "metadata": {},
   "outputs": [
    {
     "data": {
      "text/plain": [
       "(np.float64(139.26), np.float64(197.89))"
      ]
     },
     "execution_count": 292,
     "metadata": {},
     "output_type": "execute_result"
    }
   ],
   "source": [
    "l3,r3"
   ]
  },
  {
   "cell_type": "code",
   "execution_count": 295,
   "metadata": {},
   "outputs": [
    {
     "data": {
      "text/html": [
       "<div>\n",
       "<style scoped>\n",
       "    .dataframe tbody tr th:only-of-type {\n",
       "        vertical-align: middle;\n",
       "    }\n",
       "\n",
       "    .dataframe tbody tr th {\n",
       "        vertical-align: top;\n",
       "    }\n",
       "\n",
       "    .dataframe thead th {\n",
       "        text-align: right;\n",
       "    }\n",
       "</style>\n",
       "<table border=\"1\" class=\"dataframe\">\n",
       "  <thead>\n",
       "    <tr style=\"text-align: right;\">\n",
       "      <th></th>\n",
       "      <th>Id</th>\n",
       "      <th>Height</th>\n",
       "      <th>Weight</th>\n",
       "      <th>Z_ScoreHeights</th>\n",
       "    </tr>\n",
       "  </thead>\n",
       "  <tbody>\n",
       "    <tr>\n",
       "      <th>count</th>\n",
       "      <td>9993.000000</td>\n",
       "      <td>9993.000000</td>\n",
       "      <td>9993.000000</td>\n",
       "      <td>9993.000000</td>\n",
       "    </tr>\n",
       "    <tr>\n",
       "      <th>mean</th>\n",
       "      <td>5001.272591</td>\n",
       "      <td>168.564165</td>\n",
       "      <td>73.216318</td>\n",
       "      <td>-0.000963</td>\n",
       "    </tr>\n",
       "    <tr>\n",
       "      <th>std</th>\n",
       "      <td>2886.797351</td>\n",
       "      <td>9.742235</td>\n",
       "      <td>14.528090</td>\n",
       "      <td>0.996877</td>\n",
       "    </tr>\n",
       "    <tr>\n",
       "      <th>min</th>\n",
       "      <td>1.000000</td>\n",
       "      <td>139.380000</td>\n",
       "      <td>31.290000</td>\n",
       "      <td>-2.987241</td>\n",
       "    </tr>\n",
       "    <tr>\n",
       "      <th>25%</th>\n",
       "      <td>2502.000000</td>\n",
       "      <td>161.300000</td>\n",
       "      <td>61.610000</td>\n",
       "      <td>-0.744270</td>\n",
       "    </tr>\n",
       "    <tr>\n",
       "      <th>50%</th>\n",
       "      <td>5002.000000</td>\n",
       "      <td>168.450000</td>\n",
       "      <td>73.120000</td>\n",
       "      <td>-0.012645</td>\n",
       "    </tr>\n",
       "    <tr>\n",
       "      <th>75%</th>\n",
       "      <td>7501.000000</td>\n",
       "      <td>175.690000</td>\n",
       "      <td>84.880000</td>\n",
       "      <td>0.728190</td>\n",
       "    </tr>\n",
       "    <tr>\n",
       "      <th>max</th>\n",
       "      <td>10000.000000</td>\n",
       "      <td>196.970000</td>\n",
       "      <td>116.060000</td>\n",
       "      <td>2.905672</td>\n",
       "    </tr>\n",
       "  </tbody>\n",
       "</table>\n",
       "</div>"
      ],
      "text/plain": [
       "                 Id       Height       Weight  Z_ScoreHeights\n",
       "count   9993.000000  9993.000000  9993.000000     9993.000000\n",
       "mean    5001.272591   168.564165    73.216318       -0.000963\n",
       "std     2886.797351     9.742235    14.528090        0.996877\n",
       "min        1.000000   139.380000    31.290000       -2.987241\n",
       "25%     2502.000000   161.300000    61.610000       -0.744270\n",
       "50%     5002.000000   168.450000    73.120000       -0.012645\n",
       "75%     7501.000000   175.690000    84.880000        0.728190\n",
       "max    10000.000000   196.970000   116.060000        2.905672"
      ]
     },
     "execution_count": 295,
     "metadata": {},
     "output_type": "execute_result"
    }
   ],
   "source": [
    "newValidDataNew.describe()"
   ]
  },
  {
   "cell_type": "code",
   "execution_count": null,
   "metadata": {},
   "outputs": [
    {
     "data": {
      "text/plain": [
       "<Axes: xlabel='Height', ylabel='Count'>"
      ]
     },
     "execution_count": 260,
     "metadata": {},
     "output_type": "execute_result"
    },
    {
     "data": {
      "image/png": "[encoded data removed]",
      "text/plain": [
       "<Figure size 640x480 with 1 Axes>"
      ]
     },
     "metadata": {},
     "output_type": "display_data"
    }
   ],
   "source": [
    "sns.histplot(newValidDataNew.Height,kde= True,color='blue')"
   ]
  },
  {
   "cell_type": "code",
   "execution_count": null,
   "metadata": {},
   "outputs": [],
   "source": []
  }
 ],
 "metadata": {
  "kernelspec": {
   "display_name": "Python 3",
   "language": "python",
   "name": "python3"
  },
  "language_info": {
   "codemirror_mode": {
    "name": "ipython",
    "version": 3
   },
   "file_extension": ".py",
   "mimetype": "text/x-python",
   "name": "python",
   "nbconvert_exporter": "python",
   "pygments_lexer": "ipython3",
   "version": "3.13.2"
  }
 },
 "nbformat": 4,
 "nbformat_minor": 2
}
